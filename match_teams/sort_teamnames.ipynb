{
 "cells": [
  {
   "cell_type": "code",
   "execution_count": 2,
   "metadata": {},
   "outputs": [],
   "source": [
    "import pandas as pd\n",
    "from collections import defaultdict\n",
    "import json"
   ]
  },
  {
   "cell_type": "code",
   "execution_count": 3,
   "metadata": {},
   "outputs": [
    {
     "data": {
      "text/plain": [
       "0        写的都对\n",
       "1       小猪和爸爸\n",
       "2        难兄难弟\n",
       "3       早起肝锅组\n",
       "4      佛系自救小组\n",
       "       ...   \n",
       "80      Lucky\n",
       "81        爱学习\n",
       "82       自治不颓\n",
       "83    论文更要加油呀\n",
       "84     自习室小团队\n",
       "Name: 1、您所在小队的队名, Length: 85, dtype: object"
      ]
     },
     "execution_count": 3,
     "metadata": {},
     "output_type": "execute_result"
    }
   ],
   "source": [
    "filename=\"teams.xlsx\"\n",
    "data = pd.read_excel(filename, sheet_name = \"名单\",header=0)\n",
    "data[\"1、您所在小队的队名\"]"
   ]
  },
  {
   "cell_type": "code",
   "execution_count": 4,
   "metadata": {},
   "outputs": [
    {
     "data": {
      "text/plain": [
       "1、您所在小队的队名                 难兄难弟\n",
       "3、(1)您的姓名：___               周京博\n",
       "3、(4)\\n\\n小打卡昵称：___      周京博+教研博\n",
       "4、(1)小队成员1的姓名：___           康逸飞\n",
       "4、(4)\\n小打卡昵称：___      康逸飞+教研硕18\n",
       "5、(1)小队成员2的姓名：___           郝亚辉\n",
       "5、(4)\\n小打卡昵称：___      郝亚辉+教研硕18\n",
       "6、(1)小队成员3的姓名：___           (空)\n",
       "6、(4)\\n小打卡昵称：___            (空)\n",
       "Name: 2, dtype: object"
      ]
     },
     "execution_count": 4,
     "metadata": {},
     "output_type": "execute_result"
    }
   ],
   "source": [
    "data = pd.read_excel(filename, sheet_name = 1,header=0).T\n",
    "data[2]"
   ]
  },
  {
   "cell_type": "code",
   "execution_count": 5,
   "metadata": {},
   "outputs": [],
   "source": [
    "team_dict=defaultdict(lambda:{})\n",
    "\n",
    "for i in range(data.shape[1]):\n",
    "    team_dict[i][\"队名\"]=data[i][0]\n",
    "    team_dict[i][\"线上自习总时长\"]=0\n",
    "    \n",
    "    team_dict[i][\"匹配备选名称\"]=[]\n",
    "    for j in range(1,6):\n",
    "        team_dict[i][\"匹配备选名称\"].append(data[i][j])\n",
    "        \n",
    "    team_dict[i][\"成员\"]=[]\n",
    "    for j in [1,3,5,7]:\n",
    "        if data[i][j]!=\"(空)\":\n",
    "            team_dict[i][\"成员\"].append(data[i][j])\n"
   ]
  },
  {
   "cell_type": "code",
   "execution_count": 6,
   "metadata": {},
   "outputs": [],
   "source": [
    "jsonName=\"teams.json\"\n",
    "with open(jsonName, \"w\", encoding=\"utf-8\") as f:\n",
    "    json.dump(team_dict,f,ensure_ascii=False)"
   ]
  },
  {
   "cell_type": "code",
   "execution_count": 8,
   "metadata": {},
   "outputs": [],
   "source": [
    "team_dict=defaultdict(lambda:{})\n",
    "\n",
    "for i in range(data.shape[1]):\n",
    "    team_name=data[i][0]\n",
    "    \n",
    "    team_dict[team_name]={}\n",
    "    team_dict[team_name][\"线上自习总时长\"]=0\n",
    "    \n",
    "    team_dict[team_name][\"匹配备选名称\"]=[]\n",
    "    for j in range(1,7):\n",
    "        team_dict[team_name][\"匹配备选名称\"].append(data[i][j])\n",
    "        \n",
    "    team_dict[team_name][\"成员\"]=[]\n",
    "    for j in [1,3,5,7]:\n",
    "        if data[i][j]!=\"(空)\":\n",
    "            team_dict[team_name][\"成员\"].append(data[i][j])\n",
    "            \n",
    "            \n",
    "jsonName=\"teams2.json\"\n",
    "with open(jsonName, \"w\", encoding=\"utf-8\") as f:\n",
    "    json.dump(team_dict,f,ensure_ascii=False)"
   ]
  },
  {
   "cell_type": "code",
   "execution_count": null,
   "metadata": {},
   "outputs": [],
   "source": []
  }
 ],
 "metadata": {
  "kernelspec": {
   "display_name": "Python 3",
   "language": "python",
   "name": "python3"
  },
  "language_info": {
   "codemirror_mode": {
    "name": "ipython",
    "version": 3
   },
   "file_extension": ".py",
   "mimetype": "text/x-python",
   "name": "python",
   "nbconvert_exporter": "python",
   "pygments_lexer": "ipython3",
   "version": "3.6.2"
  }
 },
 "nbformat": 4,
 "nbformat_minor": 4
}
